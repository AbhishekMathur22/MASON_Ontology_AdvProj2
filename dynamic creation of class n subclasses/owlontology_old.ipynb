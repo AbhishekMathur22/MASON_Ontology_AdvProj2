{
 "cells": [
  {
   "cell_type": "markdown",
   "id": "e898112e",
   "metadata": {},
   "source": [
    "# We need to map the objects of the image into existing ontology, steps for mapping:\n"
   ]
  },
  {
   "cell_type": "code",
   "execution_count": 81,
   "id": "33a5d82e",
   "metadata": {},
   "outputs": [],
   "source": [
    "#pip install owlready2\n",
    "# pip install pyyaml"
   ]
  },
  {
   "cell_type": "markdown",
   "id": "11f37736",
   "metadata": {},
   "source": [
    "Load an ontology from a local repository, or from Internet:"
   ]
  },
  {
   "cell_type": "code",
   "execution_count": 15,
   "id": "0d7522b0",
   "metadata": {},
   "outputs": [],
   "source": [
    "#pip install -U sentence-transformers"
   ]
  },
  {
   "cell_type": "markdown",
   "id": "e714e921",
   "metadata": {},
   "source": [
    "# 1.finding the suitable ontology for our objects (here, we select the mason ontology)"
   ]
  },
  {
   "cell_type": "code",
   "execution_count": 1,
   "id": "3389968f",
   "metadata": {},
   "outputs": [
    {
     "data": {
      "text/plain": [
       "get_ontology(\"http://www.owl-ontologies.com/mason.owl#\")"
      ]
     },
     "execution_count": 1,
     "metadata": {},
     "output_type": "execute_result"
    }
   ],
   "source": [
    "\n",
    "from owlready2 import *\n",
    "from sentence_transformers import SentenceTransformer, util\n",
    "from yaml.loader import SafeLoader\n",
    "import yaml\n",
    "from neo4j import GraphDatabase\n",
    "import json\n",
    "# from datetime import datetime\n",
    "import torch\n",
    "import glob\n",
    "\n",
    "onto_path.append(\"\")\n",
    "onto = get_ontology(\"E://Jacobs 3rd sem//advproj2//main folder//mason.owl\")\n",
    "onto.load()"
   ]
  },
  {
   "cell_type": "markdown",
   "id": "e0b8d3ed",
   "metadata": {},
   "source": [
    "# 2.extract the list of ontology classes using owlready2"
   ]
  },
  {
   "cell_type": "code",
   "execution_count": 2,
   "id": "c828fd0f",
   "metadata": {},
   "outputs": [],
   "source": [
    "def get_ontoCls():\n",
    "    return list(onto.classes())"
   ]
  },
  {
   "cell_type": "code",
   "execution_count": 3,
   "id": "90759c0e",
   "metadata": {},
   "outputs": [
    {
     "data": {
      "text/plain": [
       "[mason.Electropolishing,\n",
       " mason.Anodic_dissolving,\n",
       " mason.Addition,\n",
       " mason.Mechanical_Small_variations_of_volume,\n",
       " mason.Water_trimming_machine,\n",
       " mason.Shearing_machine-tool,\n",
       " mason.Counterbore,\n",
       " mason.Revolution_entity,\n",
       " mason.Founding_machine,\n",
       " mason.Machine-tool,\n",
       " mason.Control,\n",
       " mason.Manufacturing_operation,\n",
       " mason.Tap,\n",
       " mason.Forming_machine,\n",
       " mason.Punching,\n",
       " mason.Cutting,\n",
       " mason.Polishing,\n",
       " mason.Abrasion,\n",
       " mason.Complex_shape_of_revolution_with_draught,\n",
       " mason.Complex_shape_of_revolution,\n",
       " mason.Electrolytic_ripping,\n",
       " mason.Maintenance,\n",
       " mason.Logistic_operation,\n",
       " mason.Rolling_mill,\n",
       " mason.Slot,\n",
       " mason.Linear_entity,\n",
       " mason.Assembly,\n",
       " mason.Machining_centre_5_axis,\n",
       " mason.Circular_slot,\n",
       " mason.Oxidation,\n",
       " mason.Physicochemical_Loss_of_volume,\n",
       " mason.Operation,\n",
       " mason.Manufacturing_concept,\n",
       " mason.Forging,\n",
       " mason.Brutal_hot_forming,\n",
       " mason.Forging_die_and_punch,\n",
       " mason.Tool,\n",
       " mason.Administrative_entity,\n",
       " mason.Entity,\n",
       " mason.Set,\n",
       " mason.Assembly_entity,\n",
       " mason.Cost_entity,\n",
       " mason.Geometric_flaw_between_entities,\n",
       " mason.Geometric_flaw,\n",
       " mason.Homogenizing,\n",
       " mason.Heat_treatment,\n",
       " mason.Cold_rolling,\n",
       " mason.Slow_cold_forming,\n",
       " mason.Cold_drawing,\n",
       " mason.Warm_pressing,\n",
       " mason.Welding_aluminium,\n",
       " mason.Aluminium_alloy,\n",
       " mason.Geographic_resource,\n",
       " mason.Resource,\n",
       " mason.Evaporative_or_Projective,\n",
       " mason.Oxidation_Projection,\n",
       " mason.Forming,\n",
       " mason.Under_pressure,\n",
       " mason.Fusion_No_loss_of_volume,\n",
       " mason.Circular_shoulder,\n",
       " mason.Copper_alloy,\n",
       " mason.Alloy,\n",
       " mason.Glass,\n",
       " mason.Raw_material,\n",
       " mason.Physicochemical_Small_variations_of_volume,\n",
       " mason.Small_variations_of_volume,\n",
       " mason.Shearing_Operation,\n",
       " mason.Mechanical_Loss_of_volume,\n",
       " mason.Drilling,\n",
       " mason.Warm_drawing,\n",
       " mason.Slow_hot_forming,\n",
       " mason.Topology,\n",
       " mason.Geometric_entity,\n",
       " mason.Plan,\n",
       " mason.Geometric_entity_for_manufacturing,\n",
       " mason.Technological_entity,\n",
       " mason.Folding_machine,\n",
       " mason.Stock,\n",
       " mason.Building_zone,\n",
       " mason.Shop_floor,\n",
       " mason.Hole,\n",
       " mason.Loss_of_volume,\n",
       " mason.T_slot,\n",
       " mason.Workshop,\n",
       " mason.Fluoturning,\n",
       " mason.Annealing,\n",
       " mason.Electrolysing,\n",
       " mason.Mechanical_No_loss_of_volume,\n",
       " mason.No_loss_of_volume,\n",
       " mason.Thermal_Loss_of_volume,\n",
       " mason.With_gravity,\n",
       " mason.Machine_preparing,\n",
       " mason.Launching_operation,\n",
       " mason.Thermal_Small_variations_of_volume,\n",
       " mason.Thermoplastic,\n",
       " mason.Plastic,\n",
       " mason.Hydrostatic_press,\n",
       " mason.Wedge_press,\n",
       " mason.Folding,\n",
       " mason.Cementation,\n",
       " mason.Diffusion,\n",
       " mason.Preparation_operator,\n",
       " mason.Human_resource,\n",
       " mason.Cone,\n",
       " mason.Water_jet,\n",
       " mason.Turning,\n",
       " mason.Stainless_steel,\n",
       " mason.Steel,\n",
       " mason.Oxygen_cutting,\n",
       " mason.Nibbling,\n",
       " mason.Thermal_No_loss_of_volume,\n",
       " mason.Nickel-plating,\n",
       " mason.Shot_blasting,\n",
       " mason.Blasting,\n",
       " mason.Sand_blasting,\n",
       " mason.Zinc_alloy,\n",
       " mason.Programming,\n",
       " mason.Human_operation,\n",
       " mason.Titan_alloy,\n",
       " mason.Operator,\n",
       " mason.Material_resource,\n",
       " mason.Hold_on,\n",
       " mason.Machine_resource,\n",
       " mason.Painting_station,\n",
       " mason.Heat_or_surface_treatment_machine,\n",
       " mason.Milling_machine_4_axis,\n",
       " mason.Entity_geometric_flaw,\n",
       " mason.Turning_tool,\n",
       " mason.Lapping,\n",
       " mason.Drill,\n",
       " mason.A-Uy,\n",
       " mason.Casted_aluminium,\n",
       " mason.Pocket_complex_bottom,\n",
       " mason.Pocket,\n",
       " mason.Complex_shape_of_revolution_with_counterdraught,\n",
       " mason.Shape,\n",
       " mason.Pocket_flat_bottom_with_draught,\n",
       " mason.Pocket_flat_bottom,\n",
       " mason.Symmetry,\n",
       " mason.Cold_pressing,\n",
       " mason.Extrusion,\n",
       " mason.Threading,\n",
       " mason.Founding_pattern_and_mould,\n",
       " mason.Aluminium,\n",
       " mason.Rotoforming,\n",
       " mason.Centrifugation,\n",
       " mason.Nitriding,\n",
       " mason.Covering,\n",
       " mason.Thermosetting,\n",
       " mason.Injection_machine,\n",
       " mason.Geometric_flaw_1st_order,\n",
       " mason.Grinding_machine,\n",
       " mason.Planing,\n",
       " mason.Fusion_Loss_of_volume,\n",
       " mason.Electron_beam,\n",
       " mason.Electroplating_bath,\n",
       " mason.Nickel_alloy,\n",
       " mason.Boring,\n",
       " mason.Handling,\n",
       " mason.Machining_centre_4_axis,\n",
       " mason.Part,\n",
       " mason.Board_drop_hammer,\n",
       " mason.Geometric_flaw_3rd_order,\n",
       " mason.Geometric_flaw_4th_order,\n",
       " mason.Finished_part,\n",
       " mason.Shoulder,\n",
       " mason.Lathe,\n",
       " mason.Bending,\n",
       " mason.Hydroforming,\n",
       " mason.Programming_operator,\n",
       " mason.Ultrasonics,\n",
       " mason.Shot_blasting_machine,\n",
       " mason.Hardening,\n",
       " mason.Oven,\n",
       " mason.Scheduling,\n",
       " mason.Complex_shape_of_revolution_with_draught_and_counterdraught,\n",
       " mason.Site,\n",
       " mason.A-Sx,\n",
       " mason.Electroerosion,\n",
       " mason.Carbonitriding,\n",
       " mason.Pocket_flat_bottom_with_counterdraught,\n",
       " mason.Continous_cast,\n",
       " mason.Cam_press,\n",
       " mason.Shearing,\n",
       " mason.Pocket_flat_bottom_without_draught,\n",
       " mason.Punching_press,\n",
       " mason.Magnesium_alloy,\n",
       " mason.Building,\n",
       " mason.Paint,\n",
       " mason.Laser,\n",
       " mason.Alloy_steel,\n",
       " mason.Blank,\n",
       " mason.Anodizing,\n",
       " mason.Milling,\n",
       " mason.Manual_moulding,\n",
       " mason.Handling_operator,\n",
       " mason.Chill_casting,\n",
       " mason.Warm_rolling,\n",
       " mason.Broaching,\n",
       " mason.Chromium_plating,\n",
       " mason.V_slot,\n",
       " mason.Moulding_machine,\n",
       " mason.Sand_casting,\n",
       " mason.Plasma_trimming_machine,\n",
       " mason.Varnish,\n",
       " mason.Temper_drawing,\n",
       " mason.Grinding,\n",
       " mason.Plasma,\n",
       " mason.Milling_machine,\n",
       " mason.Geometric_flaw_2nd_order,\n",
       " mason.Cylindre,\n",
       " mason.Procedures_expert,\n",
       " mason.Chamfer,\n",
       " mason.Semi-finished_part,\n",
       " mason.System,\n",
       " mason.Screw_press,\n",
       " mason.Wood,\n",
       " mason.Phosphatization,\n",
       " mason.Engraving,\n",
       " mason.Injection_casting,\n",
       " mason.Handling_machine,\n",
       " mason.Knuckel_press]"
      ]
     },
     "execution_count": 3,
     "metadata": {},
     "output_type": "execute_result"
    }
   ],
   "source": [
    "get_ontoCls()"
   ]
  },
  {
   "cell_type": "code",
   "execution_count": 4,
   "id": "f14bb45e",
   "metadata": {},
   "outputs": [
    {
     "data": {
      "text/plain": [
       "<generator object EntityClass.subclasses at 0x000001FB55427DD0>"
      ]
     },
     "execution_count": 4,
     "metadata": {},
     "output_type": "execute_result"
    }
   ],
   "source": [
    "# onto.Machine_resource.descendants()\n",
    "onto.Machine_resource.subclasses()"
   ]
  },
  {
   "cell_type": "code",
   "execution_count": 4,
   "id": "a67ee8d1",
   "metadata": {},
   "outputs": [
    {
     "data": {
      "text/plain": [
       "['Printer3D_Body',\n",
       " 'Printer3D_Filament',\n",
       " 'BandSaw_Controls',\n",
       " 'BandSaw_Saw',\n",
       " 'BandSaw_WorkTable',\n",
       " 'Conveyors_BaseRoller',\n",
       " 'Conveyors_Bed',\n",
       " 'Conveyors_SlantRoller',\n",
       " 'Drillpress_Controls',\n",
       " 'Drillpress_Drill',\n",
       " 'Drillpress_HandWheel',\n",
       " 'Drillpress_MachineStand',\n",
       " 'Drillpress_WorkTable',\n",
       " 'Lathe_Bed',\n",
       " 'Lathe_ChipPan',\n",
       " 'Lathe_Controls',\n",
       " 'Lathe_CrossSlide',\n",
       " 'MillingMachine_ChipCollectorPlate',\n",
       " 'MillingMachine_Controls',\n",
       " 'MillingMachine_HandWheel',\n",
       " 'MillingMachine_MachineStand',\n",
       " 'MillingMachine_WorkTable',\n",
       " 'Robot_BaseArm',\n",
       " 'Robot_Head',\n",
       " 'Robot_UpperArm']"
      ]
     },
     "execution_count": 4,
     "metadata": {},
     "output_type": "execute_result"
    }
   ],
   "source": [
    "def open_saveYaml(path_yaml):\n",
    "    with open(path_yaml) as f:\n",
    "        data=yaml.load(f, Loader=SafeLoader)\n",
    "        #to get the list of names to extract classes/instances from it\n",
    "        obj_list=data.get('names')\n",
    "        return obj_list\n",
    "        \n",
    "path_=\"E://Jacobs 3rd sem//advproj2//main folder//data.yaml\"\n",
    "yamldata=open_saveYaml(path_)\n",
    "yamldata"
   ]
  },
  {
   "cell_type": "code",
   "execution_count": 5,
   "id": "91f468cf",
   "metadata": {},
   "outputs": [
    {
     "data": {
      "text/plain": [
       "['Drillpress',\n",
       " 'BandSaw',\n",
       " 'Printer3D',\n",
       " 'Conveyors',\n",
       " 'MillingMachine',\n",
       " 'Robot',\n",
       " 'Lathe']"
      ]
     },
     "execution_count": 5,
     "metadata": {},
     "output_type": "execute_result"
    }
   ],
   "source": [
    "#to get only classes, split each names and get the first word before '_'. Used 'set' to get the distinct vales of classes\n",
    "def get_clsYaml(yamldata):\n",
    "    cls_lst = set([x.split('_')[0] for x in yamldata])\n",
    "    class_list=[]                                                      #label list\n",
    "    #to make a list of classes.\n",
    "    for s in cls_lst: class_list.append(s) \n",
    "    return class_list\n",
    "    \n",
    "class_list=get_clsYaml(yamldata)\n",
    "class_list"
   ]
  },
  {
   "cell_type": "markdown",
   "id": "0f2e1f8e",
   "metadata": {},
   "source": [
    "# 3. finding the related classes for our objects using similarity measures .\n",
    "# If there are no matches classes for our object, we will add the class to our ontology using owlready2"
   ]
  },
  {
   "cell_type": "code",
   "execution_count": 6,
   "id": "094e6d2c",
   "metadata": {},
   "outputs": [],
   "source": [
    "def createNewClass(createClass,s_class):\n",
    "    y = createClass\n",
    "    s_class=s_class\n",
    "    if s_class=='Thing':\n",
    "        with onto:\n",
    "            SuperClass =  onto.Thing #static value (root class)\n",
    "            NewClass = types.new_class(y, (Thing,))\n",
    "            print(y, s_class)\n",
    "#     else:\n",
    "#         SuperClass =  s_class #static value (root class)\n",
    "#         NewClass = types.new_class(y,(onto[s_class],))\n",
    "#         print('out of thing: ' ,y ,s_class)"
   ]
  },
  {
   "cell_type": "code",
   "execution_count": 7,
   "id": "435ec6f6",
   "metadata": {
    "scrolled": true
   },
   "outputs": [
    {
     "name": "stdout",
     "output_type": "stream",
     "text": [
      "\n",
      "\n",
      "======================\n",
      "\n",
      "\n",
      "Query: Drillpress\n",
      "\n",
      "Top 3 most similar sentences in corpus:\n",
      "c_lst  mason.Drilling (Score: 0.5551)\n",
      "c_lst  mason.Drill (Score: 0.5074)\n",
      "c_lst  mason.Machine-tool (Score: 0.4659)\n",
      "please select super_class number: 1- Drilling. 2- Drill. 3- Machine-tool1\n",
      "{'Drillpress': 'Drilling'} Drillpress Drilling\n",
      "\n",
      "\n",
      "======================\n",
      "\n",
      "\n",
      "Query: BandSaw\n",
      "\n",
      "Top 3 most similar sentences in corpus:\n",
      "c_lst  mason.Board_drop_hammer (Score: 0.2988)\n",
      "c_lst  mason.Welding_aluminium (Score: 0.2937)\n",
      "c_lst  mason.Shearing_machine-tool (Score: 0.2744)\n",
      "outside func  BandSaw Thing\n",
      "BandSaw Thing\n",
      "\n",
      "\n",
      "======================\n",
      "\n",
      "\n",
      "Query: Printer3D\n",
      "\n",
      "Top 3 most similar sentences in corpus:\n",
      "c_lst  mason.Plasma_trimming_machine (Score: 0.2798)\n",
      "c_lst  mason.Laser (Score: 0.2543)\n",
      "c_lst  mason.Machining_centre_5_axis (Score: 0.2481)\n",
      "outside func  Printer3D Thing\n",
      "Printer3D Thing\n",
      "\n",
      "\n",
      "======================\n",
      "\n",
      "\n",
      "Query: Conveyors\n",
      "\n",
      "Top 3 most similar sentences in corpus:\n",
      "c_lst  mason.Hydroforming (Score: 0.3268)\n",
      "c_lst  mason.Manufacturing_concept (Score: 0.3115)\n",
      "c_lst  mason.Manual_moulding (Score: 0.3106)\n",
      "outside func  Conveyors Thing\n",
      "Conveyors Thing\n",
      "\n",
      "\n",
      "======================\n",
      "\n",
      "\n",
      "Query: MillingMachine\n",
      "\n",
      "Top 3 most similar sentences in corpus:\n",
      "c_lst  mason.Milling_machine (Score: 0.7765)\n",
      "c_lst  mason.Milling_machine_4_axis (Score: 0.7418)\n",
      "c_lst  mason.Milling (Score: 0.7114)\n",
      "please select super_class number: 1- Milling_machine. 2- Milling_machine_4_axis. 3- Milling1\n",
      "{'Drillpress': 'Drilling', 'MillingMachine': 'Milling_machine'} MillingMachine Milling_machine\n",
      "\n",
      "\n",
      "======================\n",
      "\n",
      "\n",
      "Query: Robot\n",
      "\n",
      "Top 3 most similar sentences in corpus:\n",
      "c_lst  mason.Machine-tool (Score: 0.3474)\n",
      "c_lst  mason.Folding_machine (Score: 0.3307)\n",
      "c_lst  mason.Grinding_machine (Score: 0.3096)\n",
      "outside func  Robot Thing\n",
      "Robot Thing\n",
      "\n",
      "\n",
      "======================\n",
      "\n",
      "\n",
      "Query: Lathe\n",
      "\n",
      "Top 3 most similar sentences in corpus:\n",
      "c_lst  mason.Lathe (Score: 0.7014)\n",
      "c_lst  mason.Extrusion (Score: 0.4132)\n",
      "c_lst  mason.Alloy (Score: 0.4047)\n",
      "please select super_class number: 1- Lathe. 2- Extrusion. 3- Alloy1\n",
      "{'Drillpress': 'Drilling', 'MillingMachine': 'Milling_machine', 'Lathe': 'Lathe'} Lathe Lathe\n"
     ]
    },
    {
     "data": {
      "text/plain": [
       "'\\n# Alternatively, we can also use util.semantic_search to perform cosine similarty + topk\\nhits = util.semantic_search(query_embedding, corpus_embeddings, top_k=3)\\nhits = hits[0]      #Get the hits for the first query\\nfor hit in hits:\\n    print(corpus[hit[\\'corpus_id\\']], \"(Score: {:.4f})\".format(hit[\\'score\\']))\\n'"
      ]
     },
     "execution_count": 7,
     "metadata": {},
     "output_type": "execute_result"
    }
   ],
   "source": [
    "\n",
    "\"\"\"\n",
    "This is a simple application for sentence embeddings: semantic search\n",
    "\n",
    "We have a corpus with various sentences. Then, for a given query sentence,\n",
    "we want to find the most similar sentence in this corpus.\n",
    "\n",
    "This script outputs for various queries the top 3 most similar sentences in the corpus.\n",
    "\"\"\"\n",
    "def mat_cls_onto(queries):\n",
    "    \n",
    "    embedder = SentenceTransformer('all-MiniLM-L6-v2')\n",
    "\n",
    "    # Corpus with example sentences\n",
    "    cls_lst_onto = get_ontoCls()\n",
    "    cls_str_onto = []\n",
    "    for n in cls_lst_onto:\n",
    "        cls_str_onto.append(str(n))\n",
    "    #print(abc_str)\n",
    "\n",
    "\n",
    "    corpus = cls_str_onto\n",
    "    corpus_embeddings = embedder.encode(corpus, convert_to_tensor=True)\n",
    "    cls_dict ={}\n",
    "    # Query sentences:\n",
    "    # queries = class_list\n",
    "    # Find the closest 3 sentences of the corpus for each query sentence based on cosine similarity\n",
    "    top_k = min(3, len(corpus))\n",
    "    for query in queries:\n",
    "        query_embedding = embedder.encode(query, convert_to_tensor=True)\n",
    "\n",
    "        c_lst=[]\n",
    "        scr_lst=[]\n",
    "        \n",
    "        # We use cosine-similarity and torch.topk to find the highest 3 scores\n",
    "        cos_scores = util.cos_sim(query_embedding, corpus_embeddings)[0]\n",
    "        top_results = torch.topk(cos_scores, k=top_k)\n",
    "    #     print(top_results)\n",
    "        print(\"\\n\\n======================\\n\\n\")\n",
    "        print(\"Query:\", query)\n",
    "        print(\"\\nTop 3 most similar sentences in corpus:\")\n",
    "\n",
    "        for score, idx in zip(top_results[0], top_results[1]):\n",
    "            print('c_lst ',corpus[idx], \"(Score: {:.4f})\".format(score))\n",
    "            c_lst.append(corpus[idx].replace('mason.', ''))\n",
    "            scr_lst.append(\"{:.4f}\".format(score)) \n",
    "    #         print('c_lst ',c_lst)\n",
    "\n",
    "        if float(scr_lst[0])>=0.5:\n",
    "    #         print(\"please select super_class number: 1- \"+c_lst[0]+ \". 2- \" + c_lst[1] + \". 3- \" + c_lst[2])\n",
    "    #         print(\"score:\"+ str(scr_lst[0]) )\n",
    "            user_input = int(input(\"please select super_class number: 1- \"+c_lst[0]+ \". 2- \" + c_lst[1] + \". 3- \" + c_lst[2]))\n",
    "\n",
    "            if user_input==1:\n",
    "                spr_cls = c_lst[0]\n",
    "                \n",
    "                cls_dict[query]=spr_cls\n",
    "                \n",
    "                print(cls_dict, query,spr_cls)\n",
    "#                    \n",
    "\n",
    "            if user_input==2:\n",
    "                spr_cls = c_lst[1]\n",
    "                cls_dict[query]=spr_cls\n",
    "                \n",
    "                print(cls_dict, query,spr_cls)\n",
    "#                     \n",
    "\n",
    "            if user_input==3:\n",
    "                spr_cls = c_lst[2]\n",
    "                cls_dict[query]=spr_cls\n",
    "                print(cls_dict, query,spr_cls)\n",
    "#                    \n",
    "\n",
    "        elif float(scr_lst[0])<0.5:\n",
    "            spr_cls='Thing'\n",
    "            print('outside func ',query, spr_cls)\n",
    "            createNewClass(query,spr_cls)\n",
    "            \n",
    "    return cls_dict\n",
    "\n",
    "cls_dict=mat_cls_onto(class_list)  \n",
    "cls_dict\n",
    "            \n",
    "#             class Images(onto.Machine_resource):\n",
    "#                 namespace = onto\n",
    "            \n",
    "\"\"\"\n",
    "# Alternatively, we can also use util.semantic_search to perform cosine similarty + topk\n",
    "hits = util.semantic_search(query_embedding, corpus_embeddings, top_k=3)\n",
    "hits = hits[0]      #Get the hits for the first query\n",
    "for hit in hits:\n",
    "    print(corpus[hit['corpus_id']], \"(Score: {:.4f})\".format(hit['score']))\n",
    "\"\"\""
   ]
  },
  {
   "cell_type": "code",
   "execution_count": 8,
   "id": "641c48fb",
   "metadata": {},
   "outputs": [
    {
     "data": {
      "text/plain": [
       "{'Drillpress': 'Drilling',\n",
       " 'MillingMachine': 'Milling_machine',\n",
       " 'Lathe': 'Lathe'}"
      ]
     },
     "execution_count": 8,
     "metadata": {},
     "output_type": "execute_result"
    }
   ],
   "source": [
    "cls_dict"
   ]
  },
  {
   "cell_type": "markdown",
   "id": "9b0bc3dc",
   "metadata": {},
   "source": [
    "# 6. Extract the objects from images dynamically.\n"
   ]
  },
  {
   "cell_type": "code",
   "execution_count": null,
   "id": "de7958b1",
   "metadata": {},
   "outputs": [],
   "source": [
    "# first-extract json files data"
   ]
  },
  {
   "cell_type": "code",
   "execution_count": 9,
   "id": "16ee1a28",
   "metadata": {},
   "outputs": [
    {
     "name": "stdout",
     "output_type": "stream",
     "text": [
      "file is: ['data\\\\IMG_0209.json', 'data\\\\IMG_0391.json', 'data\\\\IMG_0893.json']\n"
     ]
    }
   ],
   "source": [
    "\n",
    "# Place your JSON data in a directory named 'data/'\n",
    "def getImg_objs():\n",
    "    src = \"data/\"\n",
    "#     date = datetime.now()\n",
    "    data = []\n",
    "\n",
    "    # Change the glob if you want to only look through files with specific names\n",
    "    files = glob.glob('data/*', recursive=True)\n",
    "    print('file is:',files)\n",
    "\n",
    "    for single_file in files:\n",
    "\n",
    "    #     print(single_file)\n",
    "        with open(single_file, 'r') as f:\n",
    "\n",
    "            # Use 'try-except' to skip files that may be missing data\n",
    "            try:\n",
    "                json_file = json.load(f)\n",
    "                data.append([\n",
    "                  json_file['img_id'],\n",
    "                  json_file['img_name'],          \n",
    "                  json_file['detection']\n",
    "                ])\n",
    "            except KeyError:\n",
    "                print(f'Skipping {single_file}')\n",
    "\n",
    "    # Sort the data\n",
    "    data.sort()\n",
    "    return data\n",
    "\n",
    "data = getImg_objs()"
   ]
  },
  {
   "cell_type": "code",
   "execution_count": 50,
   "id": "a61aeb85",
   "metadata": {},
   "outputs": [],
   "source": [
    "# data[0]"
   ]
  },
  {
   "cell_type": "markdown",
   "id": "ffc4fb4b",
   "metadata": {},
   "source": [
    "# 7. creating and populating instances of respective classes dynamically."
   ]
  },
  {
   "cell_type": "code",
   "execution_count": 10,
   "id": "7d1b0df4",
   "metadata": {},
   "outputs": [
    {
     "name": "stdout",
     "output_type": "stream",
     "text": [
      "{'det_cat': 0, 'det_name': 'Printer3D_Body', 'det_x': 0.6924999952316284, 'det_y': 0.5791249871253967, 'det_w': 0.12966667115688324, 'det_h': 0.3877499997615814, 'det_score': 0.2528335154056549}\n",
      "{'det_cat': 0, 'det_name': 'Printer3D_Body', 'det_x': 0.4426666796207428, 'det_y': 0.625374972820282, 'det_w': 0.0860000029206276, 'det_h': 0.132750004529953, 'det_score': 0.301304429769516}\n",
      "{'det_cat': 0, 'det_name': 'Printer3D_Body', 'det_x': 0.7568333148956299, 'det_y': 0.6306250095367432, 'det_w': 0.08733333647251129, 'det_h': 0.12825000286102295, 'det_score': 0.3674049377441406}\n",
      "{'det_cat': 1, 'det_name': 'Printer3D_Filament', 'det_x': 0.8255000114440918, 'det_y': 0.6620000004768372, 'det_w': 0.07199999690055847, 'det_h': 0.04650000110268593, 'det_score': 0.4139844477176666}\n",
      "{'det_cat': 1, 'det_name': 'Printer3D_Filament', 'det_x': 0.7668333053588867, 'det_y': 0.6194999814033508, 'det_w': 0.04800000041723251, 'det_h': 0.14000000059604645, 'det_score': 0.45336398482322693}\n",
      "{'det_cat': 0, 'det_name': 'Printer3D_Body', 'det_x': 0.5582500100135803, 'det_y': 0.5590000152587891, 'det_w': 0.18316666781902313, 'det_h': 0.28999999165534973, 'det_score': 0.5901308059692383}\n",
      "{'det_cat': 1, 'det_name': 'Printer3D_Filament', 'det_x': 0.44066667556762695, 'det_y': 0.6258749961853027, 'det_w': 0.07633333653211594, 'det_h': 0.11174999922513962, 'det_score': 0.6022428870201111}\n",
      "{'det_cat': 1, 'det_name': 'Printer3D_Filament', 'det_x': 0.768583357334137, 'det_y': 0.6236249804496765, 'det_w': 0.07116666436195374, 'det_h': 0.1172500029206276, 'det_score': 0.6052030324935913}\n",
      "{'det_cat': 0, 'det_name': 'Printer3D_Body', 'det_x': 0.6875, 'det_y': 0.5741249918937683, 'det_w': 0.14133332669734955, 'det_h': 0.242249995470047, 'det_score': 0.6111060380935669}\n",
      "{'det_cat': 1, 'det_name': 'Printer3D_Filament', 'det_x': 0.7689999938011169, 'det_y': 0.6200000047683716, 'det_w': 0.0430000014603138, 'det_h': 0.09149999916553497, 'det_score': 0.713585615158081}\n",
      "{'det_cat': 24, 'det_name': 'Robot_UpperArm', 'det_x': 0.4155833423137665, 'det_y': 0.3257499933242798, 'det_w': 0.15916666388511658, 'det_h': 0.10249999910593033, 'det_score': 0.2560856342315674}\n",
      "{'det_cat': 1, 'det_name': 'Printer3D_Filament', 'det_x': 0.8536666631698608, 'det_y': 0.6508749723434448, 'det_w': 0.04699999839067459, 'det_h': 0.1277499943971634, 'det_score': 0.25779953598976135}\n",
      "{'det_cat': 0, 'det_name': 'Printer3D_Body', 'det_x': 0.9828333258628845, 'det_y': 0.6420000195503235, 'det_w': 0.03200000151991844, 'det_h': 0.2045000046491623, 'det_score': 0.2678278684616089}\n",
      "{'det_cat': 23, 'det_name': 'Robot_Head', 'det_x': 0.4585833251476288, 'det_y': 0.3908750116825104, 'det_w': 0.0871666669845581, 'det_h': 0.07175000011920929, 'det_score': 0.34747910499572754}\n",
      "{'det_cat': 22, 'det_name': 'Robot_BaseArm', 'det_x': 0.3959166705608368, 'det_y': 0.53125, 'det_w': 0.18416666984558105, 'det_h': 0.49549999833106995, 'det_score': 0.4100228250026703}\n",
      "{'det_cat': 0, 'det_name': 'Printer3D_Body', 'det_x': 0.9862499833106995, 'det_y': 0.6365000009536743, 'det_w': 0.027499999850988388, 'det_h': 0.13850000500679016, 'det_score': 0.5180753469467163}\n",
      "{'det_cat': 1, 'det_name': 'Printer3D_Filament', 'det_x': 0.8559166789054871, 'det_y': 0.653249979019165, 'det_w': 0.03583333268761635, 'det_h': 0.0625, 'det_score': 0.5297933220863342}\n",
      "{'det_cat': 0, 'det_name': 'Printer3D_Body', 'det_x': 0.921500027179718, 'det_y': 0.6238750219345093, 'det_w': 0.1066666692495346, 'det_h': 0.15524999797344208, 'det_score': 0.5809873938560486}\n",
      "{'det_cat': 23, 'det_name': 'Robot_Head', 'det_x': 0.46399998664855957, 'det_y': 0.3878749907016754, 'det_w': 0.1353333294391632, 'det_h': 0.09375, 'det_score': 0.653575599193573}\n",
      "{'det_cat': 1, 'det_name': 'Printer3D_Filament', 'det_x': 0.8569166660308838, 'det_y': 0.6527500152587891, 'det_w': 0.05483333393931389, 'det_h': 0.07150000333786011, 'det_score': 0.6642927527427673}\n",
      "{'det_cat': 22, 'det_name': 'Robot_BaseArm', 'det_x': 0.3955833315849304, 'det_y': 0.5370000004768372, 'det_w': 0.24650000035762787, 'det_h': 0.3684999942779541, 'det_score': 0.6654959321022034}\n",
      "{'det_cat': 24, 'det_name': 'Robot_UpperArm', 'det_x': 0.40950000286102295, 'det_y': 0.33274999260902405, 'det_w': 0.21199999749660492, 'det_h': 0.13500000536441803, 'det_score': 0.8119327425956726}\n",
      "{'det_cat': 22, 'det_name': 'Robot_BaseArm', 'det_x': 0.5115833282470703, 'det_y': 0.8657500147819519, 'det_w': 0.10249999910593033, 'det_h': 0.2685000002384186, 'det_score': 0.28250882029533386}\n",
      "{'det_cat': 21, 'det_name': 'MillingMachine_WorkTable', 'det_x': 0.48091667890548706, 'det_y': 0.6917499899864197, 'det_w': 0.20283333957195282, 'det_h': 0.1509999930858612, 'det_score': 0.3188326954841614}\n",
      "{'det_cat': 22, 'det_name': 'Robot_BaseArm', 'det_x': 0.5119166374206543, 'det_y': 0.8686249852180481, 'det_w': 0.06683333218097687, 'det_h': 0.242249995470047, 'det_score': 0.34025365114212036}\n",
      "{'det_cat': 18, 'det_name': 'MillingMachine_Controls', 'det_x': 0.47608333826065063, 'det_y': 0.37325000762939453, 'det_w': 0.10483333468437195, 'det_h': 0.2919999957084656, 'det_score': 0.4383426606655121}\n"
     ]
    }
   ],
   "source": [
    "def create_pop(data):\n",
    "    for i in range(0,len(data)):\n",
    "        d_len=len(data[i][2])\n",
    "        for j in range(0,d_len):\n",
    "            img_obj = data[i][2][j].get('det_name').split('_')[0]\n",
    "#             print(img_obj)\n",
    "            if img_obj  not in cls_dict:\n",
    "                inst  = onto[img_obj](str(data[i][2][j]))\n",
    "                print(str(data[i][2][j]))\n",
    "            elif img_obj in cls_dict:\n",
    "                cls_dict_val = cls_dict.get(img_obj)\n",
    "                inst  = onto[cls_dict_val](str(data[i][2][j]))\n",
    "                print(str(data[i][2][j]),) \n",
    "                \n",
    "create_pop(data)                        "
   ]
  },
  {
   "cell_type": "code",
   "execution_count": 11,
   "id": "9c18c0de",
   "metadata": {},
   "outputs": [
    {
     "name": "stdout",
     "output_type": "stream",
     "text": [
      "mason.{'det_cat': 21, 'det_name': 'MillingMachine_WorkTable', 'det_x': 0.48091667890548706, 'det_y': 0.6917499899864197, 'det_w': 0.20283333957195282, 'det_h': 0.1509999930858612, 'det_score': 0.3188326954841614}\n",
      "mason.{'det_cat': 18, 'det_name': 'MillingMachine_Controls', 'det_x': 0.47608333826065063, 'det_y': 0.37325000762939453, 'det_w': 0.10483333468437195, 'det_h': 0.2919999957084656, 'det_score': 0.4383426606655121}\n"
     ]
    }
   ],
   "source": [
    " # To check for single class:\n",
    "for i in onto.Milling_machine.instances(): \n",
    "    print(i)"
   ]
  },
  {
   "cell_type": "markdown",
   "id": "4c958245",
   "metadata": {},
   "source": [
    "# 8. Saving ontology"
   ]
  },
  {
   "cell_type": "code",
   "execution_count": 12,
   "id": "16060d87",
   "metadata": {},
   "outputs": [],
   "source": [
    "##save ontology\n",
    "onto.save()\n",
    "try:\n",
    "    onto.save(file = \"./ontology_mason.rdf\", format = \"rdfxml\")\n",
    "except ValueError:\n",
    "    print(ValueError)\n",
    "# onto.save(file = \"test_mason\", format = \"rdfxml\")"
   ]
  },
  {
   "cell_type": "markdown",
   "id": "45f5c1cb",
   "metadata": {},
   "source": [
    "# 9. import the final ontology into Neo4j"
   ]
  },
  {
   "cell_type": "code",
   "execution_count": 39,
   "id": "85a4247c",
   "metadata": {},
   "outputs": [],
   "source": [
    "# !pip install neo4j "
   ]
  },
  {
   "cell_type": "code",
   "execution_count": 16,
   "id": "48a6bb8f",
   "metadata": {},
   "outputs": [
    {
     "name": "stdout",
     "output_type": "stream",
     "text": [
      "Query failed: {code: Neo.ClientError.Procedure.ProcedureNotFound} {message: There is no procedure with the name `db.constraints` registered for this database instance. Please ensure you've spelled the procedure name correctly and that the procedure is properly deployed.}\n",
      "Query failed: {code: Neo.ClientError.Schema.EquivalentSchemaRuleAlreadyExists} {message: An equivalent constraint already exists, 'Constraint( id=4, name='n10s_unique_uri', type='UNIQUENESS', schema=(:Resource {uri}), ownedIndex=3 )'.}\n",
      "Config already existed\n",
      "Sucessfully uploaded XML/RDF/OWL file \n"
     ]
    },
    {
     "data": {
      "text/plain": [
       "[<Record terminationStatus='OK' triplesLoaded=1588 triplesParsed=1588 namespaces={'rdf': 'http://www.w3.org/1999/02/22-rdf-syntax-ns#', 'owl': 'http://www.w3.org/2002/07/owl#', 'rdfs': 'http://www.w3.org/2000/01/rdf-schema#', 'ns0': 'http://www.owl-ontologies.com/mason.owl#'} extraInfo='' callParams={'verifyUriSyntax': False}>]"
      ]
     },
     "execution_count": 16,
     "metadata": {},
     "output_type": "execute_result"
    }
   ],
   "source": [
    "#Upload ontology to Neo4j for graphing \n",
    "\n",
    "class Neo4j_connection: #neo4jconnection #used to be COnnect2Neo4j\n",
    "\n",
    "    def __init__(self, uri, user, pwd, database_name=\"neo4j\"): #connect to the server; create constraint if not exist; default database is \"Neo4j\"\n",
    "        self.__uri = uri\n",
    "        self.__user = user\n",
    "        self.__pwd = pwd\n",
    "        self.__driver = None\n",
    "        self.__database_name = database_name\n",
    "\n",
    "        try:\n",
    "            self.__driver = GraphDatabase.driver(self.__uri, auth=(self.__user, self.__pwd))\n",
    "        except Exception as e:\n",
    "            print(\"Failed to create driver:\", e)\n",
    "\n",
    "        # check if the neccessary config already existed. if not, create.\n",
    "        query_string = '''\n",
    "        CALL db.constraints()\n",
    "                 '''\n",
    "        a = self.query(query_string, db= self.__database_name)\n",
    "        constr = str(a)\n",
    "        try:\n",
    "            b = constr[constr.find(\"description='\")+13:constr.find(' ON')]\n",
    "        except Exception as e:\n",
    "            pass\n",
    "        if b == 'CONSTRAINT':\n",
    "            print(\"Constraint already existed\")\n",
    "        else:\n",
    "            try:\n",
    "                query_string = '''\n",
    "                    CREATE CONSTRAINT n10s_unique_uri FOR (r:Resource) REQUIRE r.uri IS UNIQUE  \n",
    "                            '''\n",
    "                self.query(query_string, db = self.__database_name)\n",
    "            except Exception as e:\n",
    "                print(\"Failed to create constraint - check again\", e)\n",
    "\n",
    "        # check if the neccessary config already existed. if not, create.\n",
    "        query_string = '''\n",
    "        match(n) return count(n)\n",
    "        '''\n",
    "        a = self.query(query_string, db= self.__database_name)\n",
    "        strin = str(a[0])\n",
    "        config_check = int(strin[strin.find(\"=\")+1:strin.find(\">\")])\n",
    "        if config_check != 0:\n",
    "            print(\"Config already existed\")\n",
    "        else:\n",
    "            try: #setting up neccessary config for neosemantics\n",
    "                query_string = '''\n",
    "                    CALL n10s.graphconfig.init()\n",
    "                                '''\n",
    "                self.query(query_string, db= self.__database_name)\n",
    "\n",
    "            except Exception as e:\n",
    "                print(\"Failed to initiate graphconfig: \", e)\n",
    "\n",
    "\n",
    "    def uploading_orx(self, address, db=\"neo4j\"): #uploading OWL, RDF, and XML #i am trying to\n",
    "        query_string = (\n",
    "                \"call n10s.rdf.import.fetch('\"+address+\"','RDF/XML',\"+\"{\"+\"verifyUriSyntax: false\"+\"}\"+\")\")\n",
    "        assert self.__driver is not None, \"Driver not initialized!\"\n",
    "        session = None\n",
    "        response = None\n",
    "        try:\n",
    "            session = self.__driver.session(database=db) if db is not None else self.__driver.session()\n",
    "            response = list(session.run(query_string))\n",
    "            print(\"Sucessfully uploaded XML/RDF/OWL file \")\n",
    "        except Exception as e:\n",
    "            print(\"Upload failed:\", e)\n",
    "        finally:\n",
    "            if session is not None:\n",
    "                session.close()\n",
    "        return response\n",
    "\n",
    "\n",
    "    def uploading_ttl(self, address, db=None): #uploading Turtle files\n",
    "        query_string = (\n",
    "                \"call n10s.rdf.import.fetch(\" + f'{address}'+  ',\"Turtle\",{verifyUriSyntax: false})')\n",
    "        assert self.__driver is not None, \"Driver not initialized!\"\n",
    "        session = None\n",
    "        response = None\n",
    "        try:\n",
    "            session = self.__driver.session(database=db) if db is not None else self.__driver.session()\n",
    "            response = list(session.run(query_string))\n",
    "            print(\"Sucessfully uploaded TTL file \")\n",
    "        except Exception as e:\n",
    "            print(\"Query failed:\", e)\n",
    "        finally:\n",
    "            if session is not None:\n",
    "                session.close()\n",
    "        return response\n",
    "\n",
    "\n",
    "    def close(self):\n",
    "        if self.__driver is not None:\n",
    "            self.__driver.close()\n",
    "\n",
    "    def query(self, query, db=None): #query commands of choice.\n",
    "        assert self.__driver is not None, \"Driver not initialized!\"\n",
    "        session = None\n",
    "        response = None\n",
    "        try:\n",
    "            session = self.__driver.session(database=db) if db is not None else self.__driver.session()\n",
    "            response = list(session.run(query))\n",
    "        except Exception as e:\n",
    "            print(\"Query failed:\", e)\n",
    "        finally:\n",
    "            if session is not None:\n",
    "                session.close()\n",
    "        return response\n",
    "\n",
    "a = Neo4j_connection(\"bolt://localhost:7687\", \"neo4j\", \"password\") #(\"bolt://localhost:7687\", \"neo4j\", \"password\")\n",
    "a.uploading_orx(\"file:///Users/ABHISHEK MATHUR/ontology_mason.rdf\", \"neo4j\")\n"
   ]
  },
  {
   "cell_type": "markdown",
   "id": "1128432e",
   "metadata": {},
   "source": [
    "# Important functions of owlready2"
   ]
  },
  {
   "cell_type": "code",
   "execution_count": 32,
   "id": "ed898d2d",
   "metadata": {},
   "outputs": [],
   "source": [
    "#Access the classes of the ontology, and create new instances / individuals:\n",
    "# onto.Thing\n",
    "# list(onto.object_properties())\n",
    "# list(onto.data_properties())\n",
    "# list(onto.annotation_properties())\n",
    "# list(onto.properties())\n",
    "# list(onto.disjoint_classes() )\n",
    "# list(onto.disjoint_properties())\n",
    "# list(onto .disjoints() )\n",
    "# list(onto.different_individuals())\n",
    "# print(onto.Lathe.is_a)  #to get parent class\n",
    "# destroy_entity(onto.Images)\n",
    "# Owlready classes and individuals can be used as values within search(), as follows:\n",
    "# onto.search_one(is_a=onto.Images)\n",
    "#to check the flow of parent and subclasses # .descendants()#.ancestors()\n",
    "# Robots.descendants() "
   ]
  }
 ],
 "metadata": {
  "kernelspec": {
   "display_name": "Python 3 (ipykernel)",
   "language": "python",
   "name": "python3"
  },
  "language_info": {
   "codemirror_mode": {
    "name": "ipython",
    "version": 3
   },
   "file_extension": ".py",
   "mimetype": "text/x-python",
   "name": "python",
   "nbconvert_exporter": "python",
   "pygments_lexer": "ipython3",
   "version": "3.9.7"
  }
 },
 "nbformat": 4,
 "nbformat_minor": 5
}
